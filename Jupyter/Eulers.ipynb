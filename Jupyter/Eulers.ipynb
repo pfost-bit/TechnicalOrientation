{
 "cells": [
  {
   "cell_type": "code",
   "execution_count": 12,
   "id": "55174c72-51d2-4bdb-8d72-a7b642572073",
   "metadata": {},
   "outputs": [],
   "source": [
    "import numpy as np\n",
    "import pandas as pd\n",
    "import math"
   ]
  },
  {
   "cell_type": "code",
   "execution_count": 6,
   "id": "45a00581-dd1b-454e-a8cf-77b97ea2a992",
   "metadata": {},
   "outputs": [
    {
     "name": "stdout",
     "output_type": "stream",
     "text": [
      "233168\n"
     ]
    }
   ],
   "source": [
    "max_value = 1000\n",
    "\n",
    "final_list = []\n",
    "\n",
    "for x in range(max_value):\n",
    "    if x%3 == 0:\n",
    "        final_list.append(x)\n",
    "    elif x%5==0:\n",
    "        final_list.append(x)\n",
    "\n",
    "answer = sum(final_list)\n",
    "\n",
    "print(answer)"
   ]
  },
  {
   "cell_type": "code",
   "execution_count": 7,
   "id": "d3ede54b-3162-4507-8432-e7fab4e5057c",
   "metadata": {},
   "outputs": [
    {
     "name": "stdout",
     "output_type": "stream",
     "text": [
      "4613732\n"
     ]
    }
   ],
   "source": [
    "even_fib = []\n",
    "\n",
    "max_value = 4000000\n",
    "\n",
    "a = 0\n",
    "b = 1\n",
    "\n",
    "while( a < max_value):\n",
    "    if a%2 ==0:\n",
    "        even_fib.append(a)\n",
    "    tmp = a\n",
    "    a = tmp + b\n",
    "    b = tmp\n",
    "answer = sum(even_fib)\n",
    "print(answer)"
   ]
  },
  {
   "cell_type": "code",
   "execution_count": 24,
   "id": "8a0843bb-f0e8-450e-93e3-c1c62b5989b9",
   "metadata": {},
   "outputs": [
    {
     "name": "stdout",
     "output_type": "stream",
     "text": [
      "6857\n"
     ]
    }
   ],
   "source": [
    "#what is the largest prime factor of the number 600851475143\n",
    "\n",
    "def is_prime(n):\n",
    "    value = math.floor(math.sqrt(n))+1\n",
    "\n",
    "    for i in range(2,value):\n",
    "        if(n % i == 0):\n",
    "            return False\n",
    "    return True\n",
    "\n",
    "\n",
    "factors = []\n",
    "\n",
    "big_number = 600851475143\n",
    "max_value = math.floor(math.sqrt(big_number))+1\n",
    "\n",
    "for x in range(2, max_value):\n",
    "    if big_number % x == 0:\n",
    "        if is_prime(x):\n",
    "            pair = big_number / x\n",
    "            factors.append(x)\n",
    "            if(is_prime(pair)):\n",
    "                factors.append(pair)\n",
    "\n",
    "\n",
    "\n",
    "\n",
    "\n",
    "answer = max(factors)\n",
    "\n",
    "print(answer)\n"
   ]
  },
  {
   "cell_type": "code",
   "execution_count": null,
   "id": "97f1223f-d160-4fbd-b1d7-f425279504e5",
   "metadata": {},
   "outputs": [],
   "source": []
  }
 ],
 "metadata": {
  "kernelspec": {
   "display_name": "Python 3 (ipykernel)",
   "language": "python",
   "name": "python3"
  },
  "language_info": {
   "codemirror_mode": {
    "name": "ipython",
    "version": 3
   },
   "file_extension": ".py",
   "mimetype": "text/x-python",
   "name": "python",
   "nbconvert_exporter": "python",
   "pygments_lexer": "ipython3",
   "version": "3.12.3"
  }
 },
 "nbformat": 4,
 "nbformat_minor": 5
}
